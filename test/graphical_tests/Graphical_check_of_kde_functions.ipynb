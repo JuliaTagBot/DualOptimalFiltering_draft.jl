{
 "cells": [
  {
   "cell_type": "code",
   "execution_count": 34,
   "metadata": {},
   "outputs": [
    {
     "data": {
      "text/plain": [
       "RObject{StrSxp}\n",
       " [1] \"dplyr\"     \"purrr\"     \"readr\"     \"tidyr\"     \"tibble\"    \"ggplot2\"  \n",
       " [7] \"tidyverse\" \"stats\"     \"graphics\"  \"grDevices\" \"utils\"     \"datasets\" \n",
       "[13] \"methods\"   \"base\"     \n"
      ]
     },
     "execution_count": 34,
     "metadata": {},
     "output_type": "execute_result"
    }
   ],
   "source": [
    "using DualOptimalFiltering, Distributions, RCall, Random, KernelEstimator\n",
    "\n",
    "R\"library(tidyverse)\""
   ]
  },
  {
   "cell_type": "code",
   "execution_count": 35,
   "metadata": {},
   "outputs": [
    {
     "data": {
      "text/plain": [
       "create_kde_fun (generic function with 1 method)"
      ]
     },
     "execution_count": 35,
     "metadata": {},
     "output_type": "execute_result"
    }
   ],
   "source": [
    "function create_kde_fun(smp::Array{Float64,1})\n",
    "    bw = bwlscv(smp, gammakernel)\n",
    "    f(x::Float64) = kerneldensity(smp, xeval=Float64[x], lb=0, ub=Inf, kernel=gammakernel, h = bw)[1]\n",
    "    f(x::Array{Float64, 1}) = kerneldensity(smp, xeval=x, lb=0, ub=Inf, kernel=gammakernel, h = bw)\n",
    "    return f\n",
    "end"
   ]
  },
  {
   "cell_type": "code",
   "execution_count": 36,
   "metadata": {},
   "outputs": [
    {
     "data": {
      "text/plain": [
       "10000-element Array{Float64,1}:\n",
       " 0.23057979351846936 \n",
       " 0.2607779452078286  \n",
       " 0.07263439587742074 \n",
       " 0.21280482588177607 \n",
       " 0.16181186215188184 \n",
       " 0.12589892728456487 \n",
       " 0.10196011821122809 \n",
       " 0.4394680075055839  \n",
       " 0.04037786697435014 \n",
       " 0.17867595157546096 \n",
       " 0.25729062042251777 \n",
       " 0.0733682209283637  \n",
       " 0.7345562949118852  \n",
       " ⋮                   \n",
       " 0.07939248325967642 \n",
       " 0.15016532023499515 \n",
       " 0.6429083171161857  \n",
       " 0.18214052279496454 \n",
       " 0.04283586999797066 \n",
       " 0.0529020979991244  \n",
       " 0.013001989333486176\n",
       " 0.029859347809401464\n",
       " 0.2878736409967021  \n",
       " 0.4757573757993345  \n",
       " 0.5301498042875699  \n",
       " 0.23295419171310186 "
      ]
     },
     "execution_count": 36,
     "metadata": {},
     "output_type": "execute_result"
    }
   ],
   "source": [
    "Random.seed!(0)\n",
    "α = 1.2\n",
    "β = 6.\n",
    "smp = rand(Gamma(α, 1/β), 10000)"
   ]
  },
  {
   "cell_type": "code",
   "execution_count": 37,
   "metadata": {},
   "outputs": [
    {
     "data": {
      "text/plain": [
       "([110.186, 124.486, 35.3945, 101.769, 77.6227, 60.6169, 49.2812, 209.101, 20.1201, 85.6084  …  305.436, 87.249, 21.2841, 26.0507, 7.15683, 15.1393, 137.317, 226.285, 252.042, 111.311], [473.53, 473.53, 473.53, 473.53, 473.53, 473.53, 473.53, 473.53, 473.53, 473.53  …  473.53, 473.53, 473.53, 473.53, 473.53, 473.53, 473.53, 473.53, 473.53, 473.53])"
      ]
     },
     "execution_count": 37,
     "metadata": {},
     "output_type": "execute_result"
    }
   ],
   "source": [
    "α_list, β_list = DualOptimalFiltering.create_gamma_kde_mixture_parameters(smp)"
   ]
  },
  {
   "cell_type": "code",
   "execution_count": 38,
   "metadata": {},
   "outputs": [
    {
     "data": {
      "text/plain": [
       "(::getfield(DualOptimalFiltering, Symbol(\"#res#4\")){Array{Float64,1},Array{Float64,1},Array{Float64,1}}) (generic function with 1 method)"
      ]
     },
     "execution_count": 38,
     "metadata": {},
     "output_type": "execute_result"
    }
   ],
   "source": [
    "kde_dens = DualOptimalFiltering.create_gamma_mixture_density_αβ(α_list, β_list, repeat([1/length(α_list)], length(α_list)))"
   ]
  },
  {
   "cell_type": "code",
   "execution_count": 39,
   "metadata": {},
   "outputs": [
    {
     "data": {
      "text/plain": [
       "(::getfield(Main, Symbol(\"#f#3\")){Array{Float64,1},Float64}) (generic function with 2 methods)"
      ]
     },
     "execution_count": 39,
     "metadata": {},
     "output_type": "execute_result"
    }
   ],
   "source": [
    "kde_dens_package = create_kde_fun(smp)"
   ]
  },
  {
   "cell_type": "code",
   "execution_count": 40,
   "metadata": {},
   "outputs": [
    {
     "data": {
      "text/plain": [
       "0.0:0.002004008016032064:1.0"
      ]
     },
     "execution_count": 40,
     "metadata": {},
     "output_type": "execute_result"
    }
   ],
   "source": [
    "grid_x = range(0, stop = 1., length = 500)"
   ]
  },
  {
   "cell_type": "code",
   "execution_count": null,
   "metadata": {},
   "outputs": [],
   "source": [
    "R\"tibble(grid = $grid_x, \n",
    "            exact = $(pdf.(Gamma(α, 1/β), grid_x)), \n",
    "            kde = $(kde_dens.(grid_x)),\n",
    "            kde_package = $(kde_dens_package.(grid_x))) %>%\n",
    "    gather(type, val, exact:kde) %>%\n",
    "    ggplot(aes(x = grid, y = val, colour = type)) + \n",
    "    theme_minimal() +\n",
    "    geom_line()\""
   ]
  },
  {
   "cell_type": "code",
   "execution_count": null,
   "metadata": {},
   "outputs": [],
   "source": []
  }
 ],
 "metadata": {
  "@webio": {
   "lastCommId": "c5586213d9784d478c0feaae76bf7aac",
   "lastKernelId": "0f569478-02ca-4975-800c-2edc336f9295"
  },
  "kernelspec": {
   "display_name": "Julia 1.0.2",
   "language": "julia",
   "name": "julia-1.0"
  },
  "language_info": {
   "file_extension": ".jl",
   "mimetype": "application/julia",
   "name": "julia",
   "version": "1.0.2"
  }
 },
 "nbformat": 4,
 "nbformat_minor": 2
}
