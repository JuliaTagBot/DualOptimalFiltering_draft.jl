{
 "cells": [
  {
   "cell_type": "code",
   "execution_count": 1,
   "metadata": {},
   "outputs": [
    {
     "name": "stderr",
     "output_type": "stream",
     "text": [
      "┌ Info: Recompiling stale cache file /home/guillaume/.julia/compiled/v1.0/DualOptimalFiltering/EOzNm.ji for DualOptimalFiltering [4abc1bc0-c194-11e8-24a1-c168f2b1c514]\n",
      "└ @ Base loading.jl:1190\n",
      "WARNING: eval from module Memoize to DualOptimalFiltering:    \n",
      "Expr(:const, Symbol(\"##λm_mem_memoized_cache\") = Expr(:call, :IdDict))\n",
      "  ** incremental compilation may be broken for this module **\n",
      "\n",
      "WARNING: eval from module Memoize to DualOptimalFiltering:    \n",
      "Expr(:const, Symbol(\"##logλm_mem_memoized_cache\") = Expr(:call, :IdDict))\n",
      "  ** incremental compilation may be broken for this module **\n",
      "\n",
      "WARNING: eval from module Memoize to DualOptimalFiltering:    \n",
      "Expr(:const, Symbol(\"##denominator_Cmmi_mem_memoized_cache\") = Expr(:call, :IdDict))\n",
      "  ** incremental compilation may be broken for this module **\n",
      "\n",
      "WARNING: eval from module Memoize to DualOptimalFiltering:    \n",
      "Expr(:const, Symbol(\"##logCmmi_mem_memoized_cache\") = Expr(:call, :IdDict))\n",
      "  ** incremental compilation may be broken for this module **\n",
      "\n",
      "WARNING: eval from module Memoize to DualOptimalFiltering:    \n",
      "Expr(:const, Symbol(\"##logCmmi_mem_overflow_safe_memoized_cache\") = Expr(:call, :IdDict))\n",
      "  ** incremental compilation may be broken for this module **\n",
      "\n"
     ]
    },
    {
     "name": "stdout",
     "output_type": "stream",
     "text": [
      "\n",
      "Welcome to Nemo version 0.11.1\n",
      "\n",
      "Nemo comes with absolutely no warranty whatsoever\n",
      "\n",
      "\n",
      "Welcome to Nemo version 0.11.1\n",
      "\n",
      "Nemo comes with absolutely no warranty whatsoever\n",
      "\n"
     ]
    },
    {
     "name": "stderr",
     "output_type": "stream",
     "text": [
      "WARNING: eval from module Memoize to DualOptimalFiltering:    \n",
      "Expr(:const, Symbol(\"##log_binomial_safe_but_slow_mem_memoized_cache\") = Expr(:call, :IdDict))\n",
      "  ** incremental compilation may be broken for this module **\n",
      "\n",
      "┌ Warning: RCall.jl: Loading tidyverse: ggplot2\n",
      "│ Loading tidyverse: tibble\n",
      "│ Loading tidyverse: tidyr\n",
      "│ Loading tidyverse: readr\n",
      "│ Loading tidyverse: purrr\n",
      "│ Loading tidyverse: dplyr\n",
      "│ Conflicts with tidy packages ---------------------------------------------------\n",
      "│ filter(): dplyr, stats\n",
      "│ lag():    dplyr, stats\n",
      "└ @ RCall ~/.julia/packages/RCall/RPlFw/src/io.jl:110\n"
     ]
    },
    {
     "name": "stdout",
     "output_type": "stream",
     "text": [
      "\n",
      "Welcome to Nemo version 0.11.1\n",
      "\n",
      "Nemo comes with absolutely no warranty whatsoever\n",
      "\n"
     ]
    }
   ],
   "source": [
    "using Revise\n",
    "using DualOptimalFiltering\n",
    "using Distributions, Random, BenchmarkTools, Profile, ProfileView, JLD\n",
    "\n"
   ]
  },
  {
   "cell_type": "code",
   "execution_count": 2,
   "metadata": {},
   "outputs": [
    {
     "data": {
      "text/plain": [
       "5-element Array{Float64,1}:\n",
       " 0.0                \n",
       " 0.1                \n",
       " 0.2                \n",
       " 0.30000000000000004\n",
       " 0.4                "
      ]
     },
     "execution_count": 2,
     "metadata": {},
     "output_type": "execute_result"
    }
   ],
   "source": [
    "function simulate_WF3_data()\n",
    "    K = 3\n",
    "    α = ones(K)\n",
    "    sα = sum(α)\n",
    "    Pop_size_WF3 = 15\n",
    "    Ntimes_WF3 = 5\n",
    "    time_step_WF3 = 0.1\n",
    "    Random.seed!(4)\n",
    "    wfchain_WF3 = rand(Dirichlet(K,0.3)) |> z-> DualOptimalFiltering.wright_fisher_PD1(z, 1.5, 50, Ntimes_WF3)[:,2:end]\n",
    "    wfobs_WF3 = [rand(Multinomial(Pop_size_WF3, wfchain_WF3[:,k])) for k in 1:size(wfchain_WF3,2)] |> l -> hcat(l...)\n",
    "    time_grid_WF3 = [k*time_step_WF3 for k in 0:(Ntimes_WF3-1)]\n",
    "    data_WF3 = Dict(zip(time_grid_WF3 , [wfobs_WF3[:,t:t]' |> collect for t in 1:size(wfobs_WF3,2)]))\n",
    "    return data_WF3, wfchain_WF3, α\n",
    "end\n",
    "data, wfchain_WF3, α = simulate_WF3_data()\n",
    "times = data |> keys |> collect |> sort"
   ]
  },
  {
   "cell_type": "code",
   "execution_count": 3,
   "metadata": {},
   "outputs": [
    {
     "name": "stdout",
     "output_type": "stream",
     "text": [
      "Precomputing 3 times\n",
      "2.775000e+03 terms\n",
      "  3.859 s (30864538 allocations: 2.05 GiB)\n"
     ]
    },
    {
     "data": {
      "text/plain": [
       "(Dict{Any,Any}(0.0=>Array{Int64,1}[[2, 10, 3]],0.4=>Array{Int64,1}[[5, 9, 6], [2, 9, 9], [5, 30, 12], [4, 26, 17], [5, 14, 9], [8, 35, 12], [3, 42, 6], [6, 43, 19], [4, 17, 16], [5, 9, 10]  …  [1, 8, 18], [8, 23, 20], [3, 36, 14], [7, 30, 9], [1, 41, 19], [7, 40, 12], [5, 15, 7], [1, 14, 13], [4, 33, 7], [7, 11, 19]],0.2=>Array{Int64,1}[[2, 9, 9], [4, 15, 13], [3, 18, 12], [3, 18, 8], [3, 23, 11], [2, 11, 6], [1, 14, 8], [2, 12, 9], [4, 25, 8], [2, 28, 6]  …  [4, 16, 10], [4, 19, 6], [1, 21, 7], [3, 14, 12], [3, 11, 13], [2, 26, 7], [1, 12, 11], [1, 14, 13], [3, 21, 6], [1, 22, 10]],0.3=>Array{Int64,1}[[4, 11, 5], [7, 11, 2], [7, 32, 8], [6, 34, 12], [6, 28, 13], [4, 25, 15], [7, 16, 5], [6, 17, 9], [5, 20, 8], [6, 19, 12]  …  [7, 17, 3], [6, 21, 14], [3, 16, 9], [5, 12, 14], [5, 23, 2], [4, 31, 12], [7, 18, 5], [3, 31, 4], [6, 35, 3], [3, 24, 6]],0.1=>Array{Int64,1}[[2, 18, 5], [2, 10, 7], [2, 11, 7], [2, 13, 5], [3, 20, 4], [2, 16, 5], [2, 14, 4], [3, 14, 6], [2, 17, 7], [3, 13, 5]  …  [1, 13, 6], [1, 15, 4], [2, 14, 6], [3, 14, 4], [1, 12, 4], [1, 17, 4], [3, 16, 6], [2, 20, 7], [2, 19, 7], [1, 13, 4]]), Dict{Any,Any}(0.0=>[1.0],0.4=>[2.47429e-8, 2.3741e-5, 8.21084e-28, 7.72763e-29, 0.000494057, 1.35016e-53, 5.26302e-57, 1.26004e-108, 4.49402e-13, 6.97946e-7  …  2.28592e-17, 6.70693e-45, 3.35144e-47, 1.30993e-28, 4.43554e-85, 2.01891e-69, 0.000301944, 2.03538e-5, 1.56143e-27, 2.12291e-24],0.2=>[3.40287e-5, 5.42253e-8, 1.8468e-6, 0.000560139, 1.0096e-10, 2.74689e-5, 0.0271497, 0.0142559, 1.05642e-13, 7.76486e-18  …  5.93971e-5, 2.40817e-7, 1.27611e-5, 0.000102387, 1.2005e-6, 1.06971e-12, 0.00251453, 3.03699e-5, 1.54317e-7, 4.87342e-7],0.3=>[2.91864e-5, 4.67284e-10, 7.79144e-31, 4.38622e-42, 3.77375e-28, 3.74519e-24, 7.63919e-6, 1.448e-6, 9.43371e-6, 4.25304e-12  …  3.24677e-6, 1.3717e-18, 0.000283736, 4.69204e-13, 4.23543e-7, 5.83377e-29, 2.28474e-6, 1.04665e-17, 1.11644e-31, 3.68025e-7],0.1=>[0.00997124, 1.0296e-6, 6.61349e-5, 0.00884318, 5.53048e-6, 0.0523462, 0.00361096, 0.0147224, 0.0098648, 0.00356079  …  0.00663238, 0.00324987, 0.0431119, 0.00145399, 4.9506e-5, 0.00265906, 0.0191604, 2.22513e-5, 0.0003941, 0.000396865]))"
      ]
     },
     "execution_count": 3,
     "metadata": {},
     "output_type": "execute_result"
    }
   ],
   "source": [
    "log_ν_dict, log_Cmmi_dict, log_binomial_coeff_dict = DualOptimalFiltering.precompute_log_terms_arb(data, sum(α); digits_after_comma_for_time_precision = 4, override = true)\n",
    "\n",
    "@btime DualOptimalFiltering.filter_WF_precomputed(α, data, log_ν_dict, log_Cmmi_dict, log_binomial_coeff_dict; silence = true)"
   ]
  },
  {
   "cell_type": "code",
   "execution_count": 4,
   "metadata": {},
   "outputs": [
    {
     "name": "stdout",
     "output_type": "stream",
     "text": [
      "  4.270 s (31450495 allocations: 2.09 GiB)\n"
     ]
    },
    {
     "data": {
      "text/plain": [
       "(Dict{Any,Any}(0.0=>Array{Int64,1}[[2, 10, 3]],0.4=>Array{Int64,1}[[5, 9, 6], [2, 9, 9], [5, 30, 12], [4, 26, 17], [5, 14, 9], [8, 35, 12], [3, 42, 6], [6, 43, 19], [4, 17, 16], [5, 9, 10]  …  [1, 8, 18], [8, 23, 20], [3, 36, 14], [7, 30, 9], [1, 41, 19], [7, 40, 12], [5, 15, 7], [1, 14, 13], [4, 33, 7], [7, 11, 19]],0.2=>Array{Int64,1}[[2, 9, 9], [4, 15, 13], [3, 18, 12], [3, 18, 8], [3, 23, 11], [2, 11, 6], [1, 14, 8], [2, 12, 9], [4, 25, 8], [2, 28, 6]  …  [4, 16, 10], [4, 19, 6], [1, 21, 7], [3, 14, 12], [3, 11, 13], [2, 26, 7], [1, 12, 11], [1, 14, 13], [3, 21, 6], [1, 22, 10]],0.3=>Array{Int64,1}[[4, 11, 5], [7, 11, 2], [7, 32, 8], [6, 34, 12], [6, 28, 13], [4, 25, 15], [7, 16, 5], [6, 17, 9], [5, 20, 8], [6, 19, 12]  …  [7, 17, 3], [6, 21, 14], [3, 16, 9], [5, 12, 14], [5, 23, 2], [4, 31, 12], [7, 18, 5], [3, 31, 4], [6, 35, 3], [3, 24, 6]],0.1=>Array{Int64,1}[[2, 18, 5], [2, 10, 7], [2, 11, 7], [2, 13, 5], [3, 20, 4], [2, 16, 5], [2, 14, 4], [3, 14, 6], [2, 17, 7], [3, 13, 5]  …  [1, 13, 6], [1, 15, 4], [2, 14, 6], [3, 14, 4], [1, 12, 4], [1, 17, 4], [3, 16, 6], [2, 20, 7], [2, 19, 7], [1, 13, 4]]), Dict{Any,Any}(0.0=>[1.0],0.4=>[2.47429e-8, 2.3741e-5, 8.21084e-28, 7.72763e-29, 0.000494057, 1.35016e-53, 5.26302e-57, 1.26004e-108, 4.49402e-13, 6.97946e-7  …  2.28592e-17, 6.70693e-45, 3.35144e-47, 1.30993e-28, 4.43554e-85, 2.01891e-69, 0.000301944, 2.03538e-5, 1.56143e-27, 2.12291e-24],0.2=>[3.40287e-5, 5.42253e-8, 1.8468e-6, 0.000560139, 1.0096e-10, 2.74689e-5, 0.0271497, 0.0142559, 1.05642e-13, 7.76486e-18  …  5.93971e-5, 2.40817e-7, 1.27611e-5, 0.000102387, 1.2005e-6, 1.06971e-12, 0.00251453, 3.03699e-5, 1.54317e-7, 4.87342e-7],0.3=>[2.91864e-5, 4.67284e-10, 7.79144e-31, 4.38622e-42, 3.77375e-28, 3.74519e-24, 7.63919e-6, 1.448e-6, 9.43371e-6, 4.25304e-12  …  3.24677e-6, 1.3717e-18, 0.000283736, 4.69204e-13, 4.23543e-7, 5.83377e-29, 2.28474e-6, 1.04665e-17, 1.11644e-31, 3.68025e-7],0.1=>[0.00997124, 1.0296e-6, 6.61349e-5, 0.00884318, 5.53048e-6, 0.0523462, 0.00361096, 0.0147224, 0.0098648, 0.00356079  …  0.00663238, 0.00324987, 0.0431119, 0.00145399, 4.9506e-5, 0.00265906, 0.0191604, 2.22513e-5, 0.0003941, 0.000396865]))"
      ]
     },
     "execution_count": 4,
     "metadata": {},
     "output_type": "execute_result"
    }
   ],
   "source": [
    "@btime DualOptimalFiltering.filter_WF_adaptive_precomputation(α, data, (x,y) -> (x,y); silence = true)"
   ]
  },
  {
   "cell_type": "code",
   "execution_count": 5,
   "metadata": {},
   "outputs": [
    {
     "name": "stdout",
     "output_type": "stream",
     "text": [
      "  22.307 s (133171445 allocations: 71.88 GiB)\n"
     ]
    },
    {
     "data": {
      "text/plain": [
       "Dict{Float64,Float64} with 5 entries:\n",
       "  0.0 => -4.91265\n",
       "  0.4 => -21.0496\n",
       "  0.2 => -12.5022\n",
       "  0.3 => -16.8908\n",
       "  0.1 => -8.69155"
      ]
     },
     "execution_count": 5,
     "metadata": {},
     "output_type": "execute_result"
    }
   ],
   "source": [
    "@btime DualOptimalFiltering.WF_loglikelihood_adaptive_precomputation($α, $data; silence = true)"
   ]
  },
  {
   "cell_type": "code",
   "execution_count": 6,
   "metadata": {},
   "outputs": [
    {
     "name": "stdout",
     "output_type": "stream",
     "text": [
      "  10.923 s (105926818 allocations: 7.68 GiB)\n"
     ]
    },
    {
     "data": {
      "text/plain": [
       "Dict{Float64,Float64} with 5 entries:\n",
       "  0.0 => -4.91265\n",
       "  0.4 => -21.0496\n",
       "  0.2 => -12.5022\n",
       "  0.3 => -16.8908\n",
       "  0.1 => -8.69155"
      ]
     },
     "execution_count": 6,
     "metadata": {},
     "output_type": "execute_result"
    }
   ],
   "source": [
    "@btime DualOptimalFiltering.WF_loglikelihood_adaptive_precomputation_pruning($α, $data, (x,y) -> (x,y); silence = true)"
   ]
  },
  {
   "cell_type": "code",
   "execution_count": null,
   "metadata": {},
   "outputs": [],
   "source": []
  }
 ],
 "metadata": {
  "@webio": {
   "lastCommId": "a0c1cbece44d4cf68c9f742d1362d60c",
   "lastKernelId": "abdaef0f-27e9-4b2c-9779-689d6ccd806e"
  },
  "kernelspec": {
   "display_name": "Julia 1.0.3",
   "language": "julia",
   "name": "julia-1.0"
  },
  "language_info": {
   "file_extension": ".jl",
   "mimetype": "application/julia",
   "name": "julia",
   "version": "1.0.3"
  }
 },
 "nbformat": 4,
 "nbformat_minor": 2
}
