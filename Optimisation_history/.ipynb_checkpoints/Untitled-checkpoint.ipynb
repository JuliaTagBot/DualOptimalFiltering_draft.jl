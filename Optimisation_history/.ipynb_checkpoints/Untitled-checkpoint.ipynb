{
 "cells": [
  {
   "cell_type": "code",
   "execution_count": 1,
   "metadata": {},
   "outputs": [
    {
     "name": "stderr",
     "output_type": "stream",
     "text": [
      "┌ Info: Precompiling DualOptimalFiltering [4abc1bc0-c194-11e8-24a1-c168f2b1c514]\n",
      "└ @ Base loading.jl:1192\n",
      "WARNING: eval from module Memoize to DualOptimalFiltering:    \n",
      "Expr(:const, Symbol(\"##λm_mem_memoized_cache\") = Expr(:call, :IdDict))\n",
      "  ** incremental compilation may be broken for this module **\n",
      "\n",
      "WARNING: eval from module Memoize to DualOptimalFiltering:    \n",
      "Expr(:const, Symbol(\"##logλm_mem_memoized_cache\") = Expr(:call, :IdDict))\n",
      "  ** incremental compilation may be broken for this module **\n",
      "\n",
      "WARNING: eval from module Memoize to DualOptimalFiltering:    \n",
      "Expr(:const, Symbol(\"##denominator_Cmmi_mem_memoized_cache\") = Expr(:call, :IdDict))\n",
      "  ** incremental compilation may be broken for this module **\n",
      "\n",
      "WARNING: eval from module Memoize to DualOptimalFiltering:    \n",
      "Expr(:const, Symbol(\"##logCmmi_mem_memoized_cache\") = Expr(:call, :IdDict))\n",
      "  ** incremental compilation may be broken for this module **\n",
      "\n",
      "WARNING: eval from module Memoize to DualOptimalFiltering:    \n",
      "Expr(:const, Symbol(\"##logCmmi_mem_overflow_safe_memoized_cache\") = Expr(:call, :IdDict))\n",
      "  ** incremental compilation may be broken for this module **\n",
      "\n"
     ]
    },
    {
     "name": "stdout",
     "output_type": "stream",
     "text": [
      "\n",
      "Welcome to Nemo version 0.10.3\n",
      "\n",
      "Nemo comes with absolutely no warranty whatsoever\n",
      "\n"
     ]
    },
    {
     "name": "stderr",
     "output_type": "stream",
     "text": [
      "WARNING: eval from module Memoize to DualOptimalFiltering:    \n",
      "Expr(:const, Symbol(\"##log_binomial_safe_but_slow_mem_memoized_cache\") = Expr(:call, :IdDict))\n",
      "  ** incremental compilation may be broken for this module **\n",
      "\n",
      "┌ Warning: RCall.jl: Loading tidyverse: ggplot2\n",
      "│ Loading tidyverse: tibble\n",
      "│ Loading tidyverse: tidyr\n",
      "│ Loading tidyverse: readr\n",
      "│ Loading tidyverse: purrr\n",
      "│ Loading tidyverse: dplyr\n",
      "│ Conflicts with tidy packages ---------------------------------------------------\n",
      "│ filter(): dplyr, stats\n",
      "│ lag():    dplyr, stats\n",
      "└ @ RCall ~/.julia/packages/RCall/RPlFw/src/io.jl:110\n"
     ]
    },
    {
     "name": "stdout",
     "output_type": "stream",
     "text": [
      "\n",
      "Welcome to Nemo version 0.10.3\n",
      "\n",
      "Nemo comes with absolutely no warranty whatsoever\n",
      "\n"
     ]
    }
   ],
   "source": [
    "using Revise, DualOptimalFiltering, SpecialFunctions, StatsFuns, Base.Iterators, ExactWrightFisher, Random, Distributions, Test, ProfileView"
   ]
  },
  {
   "cell_type": "code",
   "execution_count": 2,
   "metadata": {},
   "outputs": [
    {
     "name": "stdout",
     "output_type": "stream",
     "text": [
      "Precomputing 3 times\n",
      "1.225000e+03 terms\n",
      "Step index: 1\n",
      "Number of components: 1\n",
      "Step index: 2\n",
      "Number of components: 60\n",
      "Step index: 3\n",
      "Number of components: 288\n",
      "Step index: 4\n",
      "Number of components: 1176\n",
      "Step index: 1\n",
      "Number of components: 1\n",
      "Step index: 2\n",
      "Number of components: 60\n",
      "Step index: 3\n",
      "Number of components: 221\n",
      "Step index: 4\n",
      "Number of components: 252\n"
     ]
    },
    {
     "data": {
      "text/plain": [
       "-4.044846453854237"
      ]
     },
     "execution_count": 2,
     "metadata": {},
     "output_type": "execute_result"
    }
   ],
   "source": [
    "Random.seed!(0);\n",
    "α_vec = [1.2, 1.4, 1.3]\n",
    "# α = α_vec\n",
    "K = length(α_vec)\n",
    "Pop_size_WF3 = 10\n",
    "Nparts = 100\n",
    "time_grid_WF3 = range(0, stop = 1, length = 5)\n",
    "wfchain = Wright_Fisher_K_dim_exact_trajectory([0.2, 0.4, 0.4], time_grid_WF3, α_vec)\n",
    "wfobs_WF3 = [rand(Multinomial(Pop_size_WF3, wfchain[:,k])) for k in 1:size(wfchain,2)] |> l -> hcat(l...)\n",
    "data_WF3 = Dict(zip(time_grid_WF3 , [wfobs_WF3[:,t]' |> collect for t in 1:size(wfobs_WF3,2)]))\n",
    "\n",
    "log_ν_dict_arb, log_Cmmi_dict_arb, precomputed_log_binomial_coefficients_arb = DualOptimalFiltering.precompute_log_terms_arb(data_WF3, sum(α_vec); digits_after_comma_for_time_precision = 4)\n",
    "\n",
    "\n",
    "Λ_of_t_arb, wms_of_t_arb = DualOptimalFiltering.filter_WF_precomputed(α_vec, data_WF3, log_ν_dict_arb, log_Cmmi_dict_arb, precomputed_log_binomial_coefficients_arb)\n",
    "\n",
    "times = keys(Λ_of_t_arb) |> collect |> sort\n",
    "\n",
    "Λ_of_t, wms_of_t = DualOptimalFiltering.filter_WF_precomputed_keep_fixed_number(α_vec, data_WF3, log_ν_dict_arb, log_Cmmi_dict_arb, precomputed_log_binomial_coefficients_arb, 30)\n",
    "\n",
    "DualOptimalFiltering.log_L2_dist_Dirichlet_mixtures(log.(wms_of_t_arb[times[5]]), DualOptimalFiltering.create_dirichlet_mixture(α_vec, Λ_of_t_arb[times[5]]), log.(wms_of_t[times[5]]),  DualOptimalFiltering.create_dirichlet_mixture(α_vec, Λ_of_t[times[5]]))"
   ]
  },
  {
   "cell_type": "code",
   "execution_count": null,
   "metadata": {},
   "outputs": [],
   "source": [
    "code_to_profile() = DualOptimalFiltering.log_L2_dist_Dirichlet_mixtures(log.(wms_of_t_arb[times[5]]), DualOptimalFiltering.create_dirichlet_mixture(α_vec, Λ_of_t_arb[times[5]]), log.(wms_of_t[times[5]]),  DualOptimalFiltering.create_dirichlet_mixture(α_vec, Λ_of_t[times[5]]))"
   ]
  },
  {
   "cell_type": "code",
   "execution_count": null,
   "metadata": {},
   "outputs": [],
   "source": [
    "function benchmark()\n",
    "    # Any setup code goes here.\n",
    "\n",
    "    # Run once, to force compilation.\n",
    "    println(\"======================= First run:\")\n",
    "    Random.seed!(666)\n",
    "    @time code_to_profile()\n",
    "\n",
    "    # Run a second time, with profiling.\n",
    "    println(\"\\n\\n======================= Second run:\")\n",
    "    Random.seed!(666)\n",
    "    Profile.init(delay=0.01)\n",
    "    Profile.clear()\n",
    "    Profile.clear_malloc_data()\n",
    "    @profile @time code_to_profile()\n",
    "\n",
    "    # Write profile results to profile.bin.\n",
    "    r = Profile.retrieve()\n",
    "    f = open(\"profile.bin\", \"w\")\n",
    "    serialize(f, r)\n",
    "    close(f)\n",
    "end"
   ]
  },
  {
   "cell_type": "code",
   "execution_count": null,
   "metadata": {},
   "outputs": [],
   "source": [
    "using ProfileView\n",
    "f = open(\"profile.bin\")\n",
    "r = deserialize(f);\n",
    "ProfileView.view(r[1], lidict=r[2])\n",
    "# ProfileView.view()"
   ]
  }
 ],
 "metadata": {
  "@webio": {
   "lastCommId": "725ad04578bf4a0d8f6f455de75b7ddf",
   "lastKernelId": "39b68440-4e26-42cb-8699-7e9f6d214a29"
  },
  "kernelspec": {
   "display_name": "Julia 1.0.2",
   "language": "julia",
   "name": "julia-1.0"
  },
  "language_info": {
   "file_extension": ".jl",
   "mimetype": "application/julia",
   "name": "julia",
   "version": "1.0.2"
  }
 },
 "nbformat": 4,
 "nbformat_minor": 2
}
